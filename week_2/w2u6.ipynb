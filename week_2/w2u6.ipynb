{
 "cells": [
  {
   "cell_type": "markdown",
   "metadata": {},
   "source": [
    "# Sequences\n",
    "## Standard sequence types: `list`, `tuple`, `range`\n",
    "You already learned about two of the three basic sequence types built into Python: `list` & `range`. All sequence types\n",
    "share some properties:\n",
    "- They consist of multiple items which are ordered. (That does not mean they are sorted e.g. by size! It simply means, there is a first item, a second item, etc.)\n",
    "- To access a specific item of the sequence, an index can be used.\n",
    "\n",
    "There is another commonly used sequence type called `tuple`. It will be discussed further in the next week.\n",
    "\n",
    "\n",
    "## Text sequence type: `string`\n",
    "\n",
    "You already know strings, too. A string also is a sequence data type. It is used exclusively for text and can contain\n",
    "any unicode character. There are more sequence data types in Python, which will not be discussed in this course, but you\n",
    "can read about them in the\n",
    "[Python documentation on sequence types](https://docs.python.org/3/library/stdtypes.html#typesseq), if you are\n",
    "interested.\n",
    "\n",
    "\n",
    "## Common operations on sequence types\n",
    "\n",
    "All sequence types share some common operations and some of them were already covered in this course. The following\n",
    "table is an excerpt taken from the\n",
    "[Python documentation on common operations](https://docs.python.org/3/library/stdtypes.html#common-sequence-operations).\n",
    "It shows some of the possible operations common for the sequence types (Note, in the table\n",
    "`s` & `t` are sequence types and `i` is an integer). \n",
    "There is another important operation called slicing which will be introduced in the next unit.\n",
    "\n",
    "| Operation | Return value                                                          |\n",
    "| --------- | --------------------------------------------------------------------- |\n",
    "| `len(s)`  | Length of the sequence                                                |\n",
    "| `min(s)`  | Smallest element of the sequence                                      |\n",
    "| `max(s)`  | Largest element of the sequence                                       |\n",
    "| `s + t`   | Concatenation of `s` and `t`                                          |\n",
    "| `i * s`   | A new sequence consisting of the sequence `s` `i` times consecutively |\n",
    "| `s[i]`    | The element at index `i` of sequence `s`                              |\n",
    "| `i in s`  | Checks if the sequence `s` contains the element `i`                   |\n",
    "\n",
    "Not all of these operations work on all sequences. For example, a `range` can not be multiplied with an integer to\n",
    "create a longer range. \n",
    "\n",
    "## Exercise \n",
    "Try out the different operations in the next cell."
   ]
  },
  {
   "cell_type": "code",
   "execution_count": 12,
   "metadata": {},
   "outputs": [
    {
     "ename": "TypeError",
     "evalue": "unsupported operand type(s) for +: 'range' and 'range'",
     "output_type": "error",
     "traceback": [
      "\u001b[1;31m---------------------------------------------------------------------------\u001b[0m",
      "\u001b[1;31mTypeError\u001b[0m                                 Traceback (most recent call last)",
      "Cell \u001b[1;32mIn[12], line 6\u001b[0m\n\u001b[0;32m      3\u001b[0m string_s \u001b[38;5;241m=\u001b[39m \u001b[38;5;124m\"\u001b[39m\u001b[38;5;124mThis is a string, right?\u001b[39m\u001b[38;5;124m\"\u001b[39m\n\u001b[0;32m      4\u001b[0m range_100 \u001b[38;5;241m=\u001b[39m \u001b[38;5;28mrange\u001b[39m(\u001b[38;5;241m0\u001b[39m, \u001b[38;5;241m100\u001b[39m, \u001b[38;5;241m2\u001b[39m)\n\u001b[1;32m----> 6\u001b[0m result \u001b[38;5;241m=\u001b[39m \u001b[43mrange_100\u001b[49m\u001b[43m \u001b[49m\u001b[38;5;241;43m+\u001b[39;49m\u001b[43m \u001b[49m\u001b[38;5;28;43mrange\u001b[39;49m\u001b[43m(\u001b[49m\u001b[38;5;241;43m10\u001b[39;49m\u001b[43m)\u001b[49m\n\u001b[0;32m      7\u001b[0m \u001b[38;5;28mprint\u001b[39m(result)\n",
      "\u001b[1;31mTypeError\u001b[0m: unsupported operand type(s) for +: 'range' and 'range'"
     ]
    }
   ],
   "source": [
    "list_l = [1, 2, 3, 4, 5, 6]\n",
    "unsorted_list = [2, 67, 4, 8768, 54, 3, 1, ]\n",
    "string_s = \"This is a string, right?\"\n",
    "range_100 = range(0, 100, 2)\n",
    "\n",
    "result = range_100 + range(10)\n",
    "print(result)"
   ]
  }
 ],
 "metadata": {
  "file_extension": ".py",
  "kernelspec": {
   "display_name": "Python 3",
   "language": "python",
   "name": "python3"
  },
  "language_info": {
   "codemirror_mode": {
    "name": "ipython",
    "version": 3
   },
   "file_extension": ".py",
   "mimetype": "text/x-python",
   "name": "python",
   "nbconvert_exporter": "python",
   "pygments_lexer": "ipython3",
   "version": "3.11.9"
  },
  "mimetype": "text/x-python",
  "name": "python",
  "npconvert_exporter": "python",
  "pygments_lexer": "ipython3",
  "version": 3
 },
 "nbformat": 4,
 "nbformat_minor": 2
}
